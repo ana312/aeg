{
 "cells": [
  {
   "cell_type": "markdown",
   "metadata": {},
   "source": [
    "# Solving Linear Optimisation Problems with Mosek Fusion"
   ]
  },
  {
   "cell_type": "markdown",
   "metadata": {},
   "source": [
    "This is an explanation of the linear optimisation code using Mosek Fusion. We will run through two linear optimisation cases, one solvable the other not. "
   ]
  },
  {
   "cell_type": "markdown",
   "metadata": {},
   "source": [
    "As this is a tutorial introduction we first introduce the linear problem we wish to solve."
   ]
  },
  {
   "cell_type": "markdown",
   "metadata": {},
   "source": [
    "\\begin{split}\\begin{array} {lccccccccl}\n",
    "\\mbox{Maximize}    & 3 x_0  & +  & 1 x_1   & +  & 5 x_2  & +  & 1 x_3 &       &  \\\\\n",
    "\\mbox{Subject to}  & 3 x_0  & +  & 1 x_1   & +  & 2 x_2  &    &       & =     & 30,  \\\\\n",
    "                   & 2 x_0  & +  & 1 x_1   & +  & 3 x_2  & +  & 1 x_3 & \\geq  & 15,  \\\\\n",
    "                   &          &    & 2 x_1 &     &       & +  & 3 x_3 & \\leq  & 25,\n",
    "\\label{solvable}\n",
    "\\end{array}\\end{split}"
   ]
  },
  {
   "cell_type": "markdown",
   "metadata": {},
   "source": [
    "With bounds \n",
    "\\begin{split}\\begin{array}{ccccc}\n",
    "0  & \\leq  & x_0  & \\leq  & \\infty ,  \\\\\n",
    "0  & \\leq  & x_1  & \\leq  & 10,  \\\\\n",
    "0  & \\leq  & x_2  & \\leq  & \\infty ,\\\\\n",
    "0  & \\leq  & x_3  & \\leq  & \\infty .\n",
    "\\end{array}\\end{split}"
   ]
  },
  {
   "cell_type": "markdown",
   "metadata": {},
   "source": [
    "We structure the code as follows. Our optimisation code will all live in one python function - main. main takes two arguments, matrix A of linear constraints (technically a 2D array) and vector B of linear objective function to maximise. We hardcode the constraints into main, although this is something we might change in future "
   ]
  },
  {
   "cell_type": "markdown",
   "metadata": {},
   "source": [
    "Inside function main we invoke class Model, which contains the optimisation problem. In the sequel we refer constantly to Fusion classes which are helpfully listed at https://docs.mosek.com/8.1/pythonfusion/class_index.html\n",
    "\n",
    "First we must import Fusion."
   ]
  },
  {
   "cell_type": "code",
   "execution_count": 2,
   "metadata": {
    "collapsed": true
   },
   "outputs": [],
   "source": [
    "from mosek.fusion import *"
   ]
  },
  {
   "cell_type": "markdown",
   "metadata": {},
   "source": [
    "Now we enter the arguments for our function main."
   ]
  },
  {
   "cell_type": "code",
   "execution_count": 3,
   "metadata": {
    "collapsed": true
   },
   "outputs": [],
   "source": [
    "A = [[3.0, 1.0, 2.0, 0.0],\n",
    "     [2.0, 1.0, 3.0, 1.0],\n",
    "     [0.0, 2.0, 0.0, 3.0]]\n",
    "c = [3.0, 1.0, 5.0, 1.0]"
   ]
  },
  {
   "cell_type": "markdown",
   "metadata": {},
   "source": [
    "Before we start in earnest let us reflect on what we seek. In solving our problem we seek a point in 4-space which maximises the given functional. Our code will need to \n",
    "1. Initialise a 4-vector $\\textbf{x}$ in which the solution is stored\n",
    "2. Express constraints on the domain of $\\textbf{x}$. There are global constraints (constraints uniformly applied to each  component of x) and local constraints (constraints applied to only one component of x)\n",
    "3. Solve the model and output the data"
   ]
  },
  {
   "cell_type": "markdown",
   "metadata": {},
   "source": [
    " Now we tell Mosek we are implementing a model by envoking the model class. "
   ]
  },
  {
   "cell_type": "code",
   "execution_count": 11,
   "metadata": {
    "collapsed": true
   },
   "outputs": [],
   "source": [
    "with Model(\"SL\") as SL:\n",
    "     x = SL.variable(\"x\", 4, Domain.greaterThan(0.0))\n",
    "     SL.constraint(x.index(1), Domain.lessThan(10.0))\n",
    "    \n",
    "     SL.constraint(\"c1\", Expr.dot(A[0], x), Domain.equalsTo(30.0))\n",
    "     SL.constraint(\"c2\", Expr.dot(A[1], x), Domain.greaterThan(15.0))\n",
    "     SL.constraint(\"c3\", Expr.dot(A[2], x), Domain.lessThan(25.0))\n",
    "        \n",
    "     SL.objective(\"obj\", ObjectiveSense.Maximize, Expr.dot(c, x))\n",
    "    \n",
    "     SL.solve()\n",
    "     sol=x.level()"
   ]
  },
  {
   "cell_type": "markdown",
   "metadata": {},
   "source": [
    "In the second line, first block we have initialised a solution vector $\\textbf{x}$ with the global constraint (the L.H.S of our bounds) using commands from the $\\textbf{Domain}$ class."
   ]
  },
  {
   "cell_type": "markdown",
   "metadata": {},
   "source": [
    "For upper bounds we only have one non-infinite bound - on $\\{\\textbf{x}\\}_1$. We therefore need a way to set local bounds. This is achieved in the third line, first block. \n",
    "The other variables are unbounded thus the absense of any commands for them."
   ]
  },
  {
   "cell_type": "markdown",
   "metadata": {},
   "source": [
    "In the second block we implement the linear constraints we have inputted through array A. We symbolically inner product A and x using commands from the $\\textit{Expr}$ class, and set with domain class commands we have seen before. \n",
    "$\\textit{Note all the constraints live in the constraint attribute of the model (here SL)}$"
   ]
  },
  {
   "cell_type": "markdown",
   "metadata": {
    "collapsed": true
   },
   "source": [
    "In the final block we set the objective function - the one we seek to maximise/minimise via similar commands"
   ]
  },
  {
   "cell_type": "markdown",
   "metadata": {},
   "source": [
    "All that remains is to output the data, which can be done conjunctely via list comprehensions."
   ]
  },
  {
   "cell_type": "code",
   "execution_count": 12,
   "metadata": {},
   "outputs": [
    {
     "name": "stdout",
     "output_type": "stream",
     "text": [
      "x[0] = 0.000000\n",
      "x[1] = 0.000000\n",
      "x[2] = 15.000000\n",
      "x[3] = 8.333333\n"
     ]
    }
   ],
   "source": [
    "print('\\n'.join([\"x[%d] = %f\" % (i, sol[i]) for i in range(4)]))"
   ]
  },
  {
   "cell_type": "markdown",
   "metadata": {},
   "source": [
    "NB. Notice x is not a variable but a solution class with its own attributes. We output the solution to sol using the level suffix."
   ]
  },
  {
   "cell_type": "markdown",
   "metadata": {},
   "source": [
    "# An Unsolvable Problem"
   ]
  },
  {
   "cell_type": "markdown",
   "metadata": {},
   "source": [
    "\\begin{split}\\begin{array} {lccccccccl}\n",
    "\\mbox{Minimize}    & 2 x_0  & +  & 3 x_1   & -  & 1 x_2         &  \\\\\n",
    "\\mbox{Subject to}  & 1 x_0  & +  &  x_1   & +  & 2 x_2  =     & 1,  \\\\\n",
    "                   & -2 x_0  & -  & x_1   & +  & 1 x_2   & =  & -0.5,  \\\\\n",
    "                   & -  x_0  &    &         & +  & 5 x_3   &=   & -0.1 ,\n",
    "\\label{unsolvable}\n",
    "\\end{array}\\end{split}"
   ]
  },
  {
   "cell_type": "code",
   "execution_count": 26,
   "metadata": {},
   "outputs": [
    {
     "ename": "AttributeError",
     "evalue": "_Model__solutionptr",
     "output_type": "error",
     "traceback": [
      "\u001b[0;31m---------------------------------------------------------------------------\u001b[0m",
      "\u001b[0;31mAttributeError\u001b[0m                            Traceback (most recent call last)",
      "\u001b[0;32m<ipython-input-26-2f14e47dd06f>\u001b[0m in \u001b[0;36m<module>\u001b[0;34m()\u001b[0m\n\u001b[1;32m     19\u001b[0m         \u001b[0;31m# Solve the problem\u001b[0m\u001b[0;34m\u001b[0m\u001b[0;34m\u001b[0m\u001b[0m\n\u001b[1;32m     20\u001b[0m     \u001b[0mLU\u001b[0m\u001b[0;34m.\u001b[0m\u001b[0msolve\u001b[0m\u001b[0;34m(\u001b[0m\u001b[0;34m)\u001b[0m\u001b[0;34m\u001b[0m\u001b[0m\n\u001b[0;32m---> 21\u001b[0;31m     \u001b[0msol\u001b[0m\u001b[0;34m=\u001b[0m\u001b[0mx\u001b[0m\u001b[0;34m.\u001b[0m\u001b[0mlevel\u001b[0m\u001b[0;34m(\u001b[0m\u001b[0;34m)\u001b[0m\u001b[0;34m\u001b[0m\u001b[0m\n\u001b[0m",
      "\u001b[0;32m/usr/local/lib/python3.6/site-packages/mosek/fusion/impl/_implementation.py\u001b[0m in \u001b[0;36mlevel\u001b[0;34m(self, *args)\u001b[0m\n\u001b[1;32m   9023\u001b[0m     \u001b[0;32mif\u001b[0m \u001b[0;32mFalse\u001b[0m\u001b[0;34m:\u001b[0m \u001b[0;32mpass\u001b[0m\u001b[0;34m\u001b[0m\u001b[0m\n\u001b[1;32m   9024\u001b[0m     \u001b[0;32melif\u001b[0m \u001b[0mmosek_fusion_BaseVariable\u001b[0m\u001b[0;34m.\u001b[0m\u001b[0m_match_level_\u001b[0m\u001b[0;34m(\u001b[0m\u001b[0;34m*\u001b[0m\u001b[0margs\u001b[0m\u001b[0;34m)\u001b[0m\u001b[0;34m:\u001b[0m \u001b[0;31m#\u001b[0m\u001b[0;34m\u001b[0m\u001b[0m\n\u001b[0;32m-> 9025\u001b[0;31m       \u001b[0;32mreturn\u001b[0m \u001b[0mself\u001b[0m\u001b[0;34m.\u001b[0m\u001b[0m_level_\u001b[0m\u001b[0;34m(\u001b[0m\u001b[0;34m*\u001b[0m\u001b[0margs\u001b[0m\u001b[0;34m)\u001b[0m\u001b[0;34m\u001b[0m\u001b[0m\n\u001b[0m\u001b[1;32m   9026\u001b[0m     \u001b[0;32melif\u001b[0m \u001b[0mmosek_fusion_BaseVariable\u001b[0m\u001b[0;34m.\u001b[0m\u001b[0m_match_alt_level_\u001b[0m\u001b[0;34m(\u001b[0m\u001b[0;34m*\u001b[0m\u001b[0margs\u001b[0m\u001b[0;34m)\u001b[0m\u001b[0;34m:\u001b[0m \u001b[0;31m#\u001b[0m\u001b[0;34m\u001b[0m\u001b[0m\n\u001b[1;32m   9027\u001b[0m       \u001b[0;32mreturn\u001b[0m \u001b[0mself\u001b[0m\u001b[0;34m.\u001b[0m\u001b[0m_level_alt_\u001b[0m\u001b[0;34m(\u001b[0m\u001b[0;34m*\u001b[0m\u001b[0margs\u001b[0m\u001b[0;34m)\u001b[0m\u001b[0;34m\u001b[0m\u001b[0m\n",
      "\u001b[0;32m/usr/local/lib/python3.6/site-packages/mosek/fusion/impl/_implementation.py\u001b[0m in \u001b[0;36m_level_\u001b[0;34m(self)\u001b[0m\n\u001b[1;32m   9678\u001b[0m    \u001b[0m_0\u001b[0m\u001b[0;34m=\u001b[0m\u001b[0mnumpy\u001b[0m\u001b[0;34m.\u001b[0m\u001b[0mzeros\u001b[0m\u001b[0;34m(\u001b[0m\u001b[0;34m(\u001b[0m\u001b[0;34m(\u001b[0m\u001b[0mself\u001b[0m\u001b[0;34m.\u001b[0m\u001b[0m_shape_p\u001b[0m\u001b[0;34m.\u001b[0m\u001b[0m_size\u001b[0m\u001b[0;34m)\u001b[0m\u001b[0;34m,\u001b[0m\u001b[0;34m)\u001b[0m\u001b[0;34m,\u001b[0m \u001b[0mdtype\u001b[0m\u001b[0;34m=\u001b[0m\u001b[0mnumpy\u001b[0m\u001b[0;34m.\u001b[0m\u001b[0mdtype\u001b[0m\u001b[0;34m(\u001b[0m\u001b[0mnumpy\u001b[0m\u001b[0;34m.\u001b[0m\u001b[0mfloat64\u001b[0m\u001b[0;34m)\u001b[0m\u001b[0;34m)\u001b[0m\u001b[0;34m\u001b[0m\u001b[0m\n\u001b[1;32m   9679\u001b[0m    \u001b[0;32mif\u001b[0m \u001b[0;34m(\u001b[0m\u001b[0;34m(\u001b[0m\u001b[0mself\u001b[0m\u001b[0;34m.\u001b[0m\u001b[0m_shape_p\u001b[0m\u001b[0;34m.\u001b[0m\u001b[0m_size\u001b[0m\u001b[0;34m)\u001b[0m \u001b[0;34m>\u001b[0m \u001b[0;36m0\u001b[0m\u001b[0;34m)\u001b[0m\u001b[0;34m:\u001b[0m\u001b[0;34m\u001b[0m\u001b[0m\n\u001b[0;32m-> 9680\u001b[0;31m     \u001b[0mself\u001b[0m\u001b[0;34m.\u001b[0m\u001b[0m_values_I_3DZ\u001b[0m\u001b[0;34m(\u001b[0m\u001b[0;36m0\u001b[0m\u001b[0;34m,\u001b[0m\u001b[0m_0\u001b[0m\u001b[0;34m,\u001b[0m\u001b[0;32mTrue\u001b[0m\u001b[0;34m)\u001b[0m\u001b[0;34m\u001b[0m\u001b[0m\n\u001b[0m\u001b[1;32m   9681\u001b[0m    \u001b[0;32mreturn\u001b[0m \u001b[0;34m(\u001b[0m\u001b[0m_0\u001b[0m\u001b[0;34m)\u001b[0m\u001b[0;34m\u001b[0m\u001b[0m\n\u001b[1;32m   9682\u001b[0m   \u001b[0;34m@\u001b[0m\u001b[0mstaticmethod\u001b[0m\u001b[0;34m\u001b[0m\u001b[0m\n",
      "\u001b[0;32m/usr/local/lib/python3.6/site-packages/mosek/fusion/impl/_implementation.py\u001b[0m in \u001b[0;36m_values_I_3DZ\u001b[0;34m(self, _0, _1, _2)\u001b[0m\n\u001b[1;32m   9513\u001b[0m    \u001b[0;32mfor\u001b[0m \u001b[0m_6\u001b[0m \u001b[0;32min\u001b[0m \u001b[0mrange\u001b[0m\u001b[0;34m(\u001b[0m\u001b[0;36m0\u001b[0m\u001b[0;34m,\u001b[0m\u001b[0;34m(\u001b[0m\u001b[0mself\u001b[0m\u001b[0;34m.\u001b[0m\u001b[0m_shape_p\u001b[0m\u001b[0;34m.\u001b[0m\u001b[0mnd\u001b[0m\u001b[0;34m)\u001b[0m\u001b[0;34m)\u001b[0m\u001b[0;34m:\u001b[0m\u001b[0;34m\u001b[0m\u001b[0m\n\u001b[1;32m   9514\u001b[0m     \u001b[0m_4\u001b[0m\u001b[0;34m[\u001b[0m\u001b[0m_6\u001b[0m\u001b[0;34m]\u001b[0m \u001b[0;34m=\u001b[0m \u001b[0mself\u001b[0m\u001b[0;34m.\u001b[0m\u001b[0m_shape_p\u001b[0m\u001b[0;34m.\u001b[0m\u001b[0m_dim_I\u001b[0m\u001b[0;34m(\u001b[0m\u001b[0m_6\u001b[0m\u001b[0;34m)\u001b[0m\u001b[0;34m\u001b[0m\u001b[0m\n\u001b[0;32m-> 9515\u001b[0;31m    \u001b[0mself\u001b[0m\u001b[0;34m.\u001b[0m\u001b[0m_values_J_3I_3JI_3DZ\u001b[0m\u001b[0;34m(\u001b[0m\u001b[0;36m0\u001b[0m\u001b[0;34m,\u001b[0m\u001b[0m_4\u001b[0m\u001b[0;34m,\u001b[0m\u001b[0m_3\u001b[0m\u001b[0;34m,\u001b[0m\u001b[0m_0\u001b[0m\u001b[0;34m,\u001b[0m\u001b[0m_1\u001b[0m\u001b[0;34m,\u001b[0m\u001b[0m_2\u001b[0m\u001b[0;34m)\u001b[0m\u001b[0;34m\u001b[0m\u001b[0m\n\u001b[0m\u001b[1;32m   9516\u001b[0m   \u001b[0;34m@\u001b[0m\u001b[0mstaticmethod\u001b[0m\u001b[0;34m\u001b[0m\u001b[0m\n\u001b[1;32m   9517\u001b[0m   \u001b[0;32mdef\u001b[0m \u001b[0m_match_values__3JI_3DZ\u001b[0m\u001b[0;34m(\u001b[0m\u001b[0;34m*\u001b[0m\u001b[0margs\u001b[0m\u001b[0;34m)\u001b[0m\u001b[0;34m:\u001b[0m\u001b[0;34m\u001b[0m\u001b[0m\n",
      "\u001b[0;32m/usr/local/lib/python3.6/site-packages/mosek/fusion/impl/_implementation.py\u001b[0m in \u001b[0;36m_values_J_3I_3JI_3DZ\u001b[0;34m(self, _0, _1, _2, _3, _4, _5)\u001b[0m\n\u001b[1;32m  16045\u001b[0m     \u001b[0m_7\u001b[0m\u001b[0;34m=\u001b[0m\u001b[0mint\u001b[0m\u001b[0;34m(\u001b[0m\u001b[0;34m(\u001b[0m\u001b[0m_2\u001b[0m\u001b[0;34m)\u001b[0m\u001b[0;34m.\u001b[0m\u001b[0mshape\u001b[0m\u001b[0;34m[\u001b[0m\u001b[0;36m0\u001b[0m\u001b[0;34m]\u001b[0m\u001b[0;34m)\u001b[0m\u001b[0;34m\u001b[0m\u001b[0m\n\u001b[1;32m  16046\u001b[0m     \u001b[0m_8\u001b[0m\u001b[0;34m=\u001b[0m\u001b[0mmosek_fusion_IndexCounter\u001b[0m\u001b[0;34m.\u001b[0m\u001b[0m_ctor_J_3I_3J\u001b[0m\u001b[0;34m(\u001b[0m\u001b[0m_0\u001b[0m\u001b[0;34m,\u001b[0m\u001b[0m_1\u001b[0m\u001b[0;34m,\u001b[0m\u001b[0m_2\u001b[0m\u001b[0;34m)\u001b[0m\u001b[0;34m\u001b[0m\u001b[0m\n\u001b[0;32m> 16047\u001b[0;31m     \u001b[0m_9\u001b[0m\u001b[0;34m=\u001b[0m\u001b[0mself\u001b[0m\u001b[0;34m.\u001b[0m\u001b[0m_model\u001b[0m\u001b[0;34m.\u001b[0m\u001b[0m_getSolution_1xx_Emosek_4fusion_4SolutionType_2\u001b[0m\u001b[0;34m(\u001b[0m\u001b[0mmosek\u001b[0m\u001b[0;34m.\u001b[0m\u001b[0mfusion\u001b[0m\u001b[0;34m.\u001b[0m\u001b[0mSolutionType\u001b[0m\u001b[0;34m.\u001b[0m\u001b[0mDefault\u001b[0m\u001b[0;34m)\u001b[0m\u001b[0;34m\u001b[0m\u001b[0m\n\u001b[0m\u001b[1;32m  16048\u001b[0m     \u001b[0m_6\u001b[0m \u001b[0;34m=\u001b[0m \u001b[0mfragments\u001b[0m\u001b[0;34m.\u001b[0m\u001b[0m_c_closure_140\u001b[0m\u001b[0;34m(\u001b[0m\u001b[0m_7\u001b[0m\u001b[0;34m,\u001b[0m\u001b[0m_1\u001b[0m\u001b[0;34m,\u001b[0m\u001b[0m_6\u001b[0m\u001b[0;34m)\u001b[0m \u001b[0;31m# src/fusion/LinearVariable.mbi:149:11-53\u001b[0m\u001b[0;34m\u001b[0m\u001b[0m\n\u001b[1;32m  16049\u001b[0m     \u001b[0m_6\u001b[0m \u001b[0;34m=\u001b[0m \u001b[0mnumpy\u001b[0m\u001b[0;34m.\u001b[0m\u001b[0mint64\u001b[0m\u001b[0;34m(\u001b[0m\u001b[0m_6\u001b[0m\u001b[0;34m)\u001b[0m \u001b[0;31m# postprocess\u001b[0m\u001b[0;34m\u001b[0m\u001b[0m\n",
      "\u001b[0;32m/usr/local/lib/python3.6/site-packages/mosek/fusion/impl/_implementation.py\u001b[0m in \u001b[0;36m_getSolution_1xx_Emosek_4fusion_4SolutionType_2\u001b[0;34m(self, _0)\u001b[0m\n\u001b[1;32m   4354\u001b[0m     \u001b[0;32mreturn\u001b[0m \u001b[0mself\u001b[0m\u001b[0;34m.\u001b[0m\u001b[0m_getSolution_1xx_Emosek_4fusion_4SolutionType_2\u001b[0m\u001b[0;34m(\u001b[0m\u001b[0m__0\u001b[0m\u001b[0;34m)\u001b[0m\u001b[0;34m\u001b[0m\u001b[0m\n\u001b[1;32m   4355\u001b[0m   \u001b[0;32mdef\u001b[0m \u001b[0m_getSolution_1xx_Emosek_4fusion_4SolutionType_2\u001b[0m\u001b[0;34m(\u001b[0m\u001b[0mself\u001b[0m\u001b[0;34m,\u001b[0m\u001b[0m_0\u001b[0m\u001b[0;34m)\u001b[0m\u001b[0;34m:\u001b[0m\u001b[0;34m\u001b[0m\u001b[0m\n\u001b[0;32m-> 4356\u001b[0;31m    \u001b[0;32mreturn\u001b[0m \u001b[0;34m(\u001b[0m\u001b[0;34m(\u001b[0m\u001b[0mself\u001b[0m\u001b[0;34m.\u001b[0m\u001b[0m_get_1sol_1cache_Emosek_4fusion_4SolutionType_2Z\u001b[0m\u001b[0;34m(\u001b[0m\u001b[0m_0\u001b[0m\u001b[0;34m,\u001b[0m\u001b[0;32mTrue\u001b[0m\u001b[0;34m)\u001b[0m\u001b[0;34m.\u001b[0m\u001b[0mxx\u001b[0m\u001b[0;34m)\u001b[0m\u001b[0;34m)\u001b[0m\u001b[0;34m\u001b[0m\u001b[0m\n\u001b[0m\u001b[1;32m   4357\u001b[0m   \u001b[0;34m@\u001b[0m\u001b[0mstaticmethod\u001b[0m\u001b[0;34m\u001b[0m\u001b[0m\n\u001b[1;32m   4358\u001b[0m   \u001b[0;32mdef\u001b[0m \u001b[0m_match_selectedSolution_Emosek_4fusion_4SolutionType_2\u001b[0m\u001b[0;34m(\u001b[0m\u001b[0;34m*\u001b[0m\u001b[0margs\u001b[0m\u001b[0;34m)\u001b[0m\u001b[0;34m:\u001b[0m\u001b[0;34m\u001b[0m\u001b[0m\n",
      "\u001b[0;32m/usr/local/lib/python3.6/site-packages/mosek/fusion/impl/_implementation.py\u001b[0m in \u001b[0;36m_get_1sol_1cache_Emosek_4fusion_4SolutionType_2Z\u001b[0;34m(self, _0, _1)\u001b[0m\n\u001b[1;32m   4283\u001b[0m     \u001b[0;32mreturn\u001b[0m \u001b[0mself\u001b[0m\u001b[0;34m.\u001b[0m\u001b[0m_get_1sol_1cache_Emosek_4fusion_4SolutionType_2Z\u001b[0m\u001b[0;34m(\u001b[0m\u001b[0m__0\u001b[0m\u001b[0;34m,\u001b[0m\u001b[0m_1\u001b[0m\u001b[0;34m)\u001b[0m\u001b[0;34m\u001b[0m\u001b[0m\n\u001b[1;32m   4284\u001b[0m   \u001b[0;32mdef\u001b[0m \u001b[0m_get_1sol_1cache_Emosek_4fusion_4SolutionType_2Z\u001b[0m\u001b[0;34m(\u001b[0m\u001b[0mself\u001b[0m\u001b[0;34m,\u001b[0m\u001b[0m_0\u001b[0m\u001b[0;34m,\u001b[0m\u001b[0m_1\u001b[0m\u001b[0;34m)\u001b[0m\u001b[0;34m:\u001b[0m\u001b[0;34m\u001b[0m\u001b[0m\n\u001b[0;32m-> 4285\u001b[0;31m    \u001b[0;32mreturn\u001b[0m \u001b[0;34m(\u001b[0m\u001b[0mself\u001b[0m\u001b[0;34m.\u001b[0m\u001b[0m_get_1sol_1cache_Emosek_4fusion_4SolutionType_2ZZ\u001b[0m\u001b[0;34m(\u001b[0m\u001b[0m_0\u001b[0m\u001b[0;34m,\u001b[0m\u001b[0m_1\u001b[0m\u001b[0;34m,\u001b[0m\u001b[0;32mFalse\u001b[0m\u001b[0;34m)\u001b[0m\u001b[0;34m)\u001b[0m\u001b[0;34m\u001b[0m\u001b[0m\n\u001b[0m\u001b[1;32m   4286\u001b[0m   \u001b[0;32mdef\u001b[0m \u001b[0m_setSolution_1xx_alt__3I_3D\u001b[0m\u001b[0;34m(\u001b[0m\u001b[0mself\u001b[0m\u001b[0;34m,\u001b[0m\u001b[0m_t__0\u001b[0m\u001b[0;34m,\u001b[0m\u001b[0m_t__1\u001b[0m\u001b[0;34m)\u001b[0m\u001b[0;34m:\u001b[0m\u001b[0;34m\u001b[0m\u001b[0m\n\u001b[1;32m   4287\u001b[0m    \u001b[0m_0\u001b[0m\u001b[0;34m=\u001b[0m\u001b[0mnumpy\u001b[0m\u001b[0;34m.\u001b[0m\u001b[0marray\u001b[0m\u001b[0;34m(\u001b[0m\u001b[0m_t__0\u001b[0m\u001b[0;34m,\u001b[0m\u001b[0mdtype\u001b[0m\u001b[0;34m=\u001b[0m\u001b[0mnumpy\u001b[0m\u001b[0;34m.\u001b[0m\u001b[0mdtype\u001b[0m\u001b[0;34m(\u001b[0m\u001b[0mnumpy\u001b[0m\u001b[0;34m.\u001b[0m\u001b[0mint32\u001b[0m\u001b[0;34m)\u001b[0m\u001b[0;34m)\u001b[0m\u001b[0;34m\u001b[0m\u001b[0m\n",
      "\u001b[0;32m/usr/local/lib/python3.6/site-packages/mosek/fusion/impl/_implementation.py\u001b[0m in \u001b[0;36m_get_1sol_1cache_Emosek_4fusion_4SolutionType_2ZZ\u001b[0;34m(self, _0, _1, _2)\u001b[0m\n\u001b[1;32m   4224\u001b[0m    \u001b[0m_4\u001b[0m\u001b[0;34m=\u001b[0m\u001b[0m_0\u001b[0m\u001b[0;34m\u001b[0m\u001b[0m\n\u001b[1;32m   4225\u001b[0m    \u001b[0;32mif\u001b[0m \u001b[0;34m(\u001b[0m\u001b[0m_4\u001b[0m\u001b[0;34m==\u001b[0m\u001b[0mmosek\u001b[0m\u001b[0;34m.\u001b[0m\u001b[0mfusion\u001b[0m\u001b[0;34m.\u001b[0m\u001b[0mSolutionType\u001b[0m\u001b[0;34m.\u001b[0m\u001b[0mDefault\u001b[0m\u001b[0;34m)\u001b[0m\u001b[0;34m:\u001b[0m\u001b[0;34m\u001b[0m\u001b[0m\n\u001b[0;32m-> 4226\u001b[0;31m     \u001b[0m_4\u001b[0m \u001b[0;34m=\u001b[0m \u001b[0mself\u001b[0m\u001b[0;34m.\u001b[0m\u001b[0m__solutionptr\u001b[0m\u001b[0;34m\u001b[0m\u001b[0m\n\u001b[0m\u001b[1;32m   4227\u001b[0m    \u001b[0;32mif\u001b[0m \u001b[0;34m(\u001b[0m\u001b[0m_4\u001b[0m\u001b[0;34m==\u001b[0m\u001b[0mmosek\u001b[0m\u001b[0;34m.\u001b[0m\u001b[0mfusion\u001b[0m\u001b[0;34m.\u001b[0m\u001b[0mSolutionType\u001b[0m\u001b[0;34m.\u001b[0m\u001b[0mDefault\u001b[0m\u001b[0;34m)\u001b[0m\u001b[0;34m:\u001b[0m\u001b[0;34m\u001b[0m\u001b[0m\n\u001b[1;32m   4228\u001b[0m     \u001b[0;32mif\u001b[0m \u001b[0;34m(\u001b[0m\u001b[0mself\u001b[0m\u001b[0;34m.\u001b[0m\u001b[0m_sol_itg\u001b[0m \u001b[0;32mis\u001b[0m \u001b[0;32mnot\u001b[0m \u001b[0;32mNone\u001b[0m\u001b[0;34m)\u001b[0m\u001b[0;34m:\u001b[0m\u001b[0;34m\u001b[0m\u001b[0m\n",
      "\u001b[0;31mAttributeError\u001b[0m: _Model__solutionptr"
     ]
    }
   ],
   "source": [
    "from mosek.fusion import *\n",
    "B = [[1.0, 1.0, 2.0],\n",
    "     [-2.0, -1.0, 1.0],\n",
    "     [-1.0, 0.0, 5.0]]\n",
    "d = [2.0, 3.0, -1.0]\n",
    "\n",
    "  \n",
    "with Model(\"unsolvable\") as LU:\n",
    "\n",
    "    y = LU.variable(\"y\", 3, Domain.greaterThan(0.0))\n",
    "        \n",
    "    LU.constraint(\"c1\", Expr.dot(B[0], y), Domain.equalsTo(1.0))\n",
    "    LU.constraint(\"c2\", Expr.dot(B[1], y), Domain.equalsTo(-0.5))\n",
    "    LU.constraint(\"c3\", Expr.dot(B[2], y), Domain.equalsTo(-0.1))\n",
    "\n",
    "    # Set the objective function \n",
    "    LU.objective(\"obj\", ObjectiveSense.Maximize, Expr.dot(c, y))\n",
    "\n",
    "    # Solve the problem\n",
    "    LU.solve()\n",
    "    sol=x.level()"
   ]
  },
  {
   "cell_type": "markdown",
   "metadata": {},
   "source": [
    "ie some probems have been thrown up."
   ]
  },
  {
   "cell_type": "code",
   "execution_count": null,
   "metadata": {
    "collapsed": true
   },
   "outputs": [],
   "source": []
  }
 ],
 "metadata": {
  "kernelspec": {
   "display_name": "Python 3",
   "language": "python",
   "name": "python3"
  },
  "language_info": {
   "codemirror_mode": {
    "name": "ipython",
    "version": 3
   },
   "file_extension": ".py",
   "mimetype": "text/x-python",
   "name": "python",
   "nbconvert_exporter": "python",
   "pygments_lexer": "ipython3",
   "version": "3.6.2"
  }
 },
 "nbformat": 4,
 "nbformat_minor": 2
}
